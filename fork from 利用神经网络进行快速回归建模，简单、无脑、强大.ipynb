{
 "cells": [
  {
   "cell_type": "code",
   "execution_count": 1,
   "metadata": {},
   "outputs": [
    {
     "name": "stderr",
     "output_type": "stream",
     "text": [
      "Using TensorFlow backend.\n"
     ]
    }
   ],
   "source": [
    "import pandas as pd\n",
    "import numpy as np\n",
    "from sklearn.preprocessing import MinMaxScaler\n",
    "from sklearn.model_selection import train_test_split\n",
    "from tensorflow import keras\n",
    "from sklearn.metrics import mean_absolute_error\n",
    "from keras.layers import Dropout,normalization"
   ]
  },
  {
   "cell_type": "code",
   "execution_count": 2,
   "metadata": {},
   "outputs": [],
   "source": [
    "# data_train = pd.read_csv(r'./datalab/231784/used_car_train_20200313.csv',sep = ' ')\n",
    "# data_test = pd.read_csv(r'./datalab/231784/used_car_testA_20200313.csv',sep = ' ')\n",
    "data_train = pd.read_csv('dataset/used_car_train_20200313.csv', sep=' ')\n",
    "data_test = pd.read_csv('dataset/used_car_testB_20200421.csv', sep=' ')"
   ]
  },
  {
   "cell_type": "code",
   "execution_count": 3,
   "metadata": {},
   "outputs": [
    {
     "data": {
      "text/plain": [
       "Index(['SaleID', 'name', 'regDate', 'model', 'brand', 'bodyType', 'fuelType',\n",
       "       'gearbox', 'power', 'kilometer', 'notRepairedDamage', 'regionCode',\n",
       "       'seller', 'offerType', 'creatDate', 'price', 'v_0', 'v_1', 'v_2', 'v_3',\n",
       "       'v_4', 'v_5', 'v_6', 'v_7', 'v_8', 'v_9', 'v_10', 'v_11', 'v_12',\n",
       "       'v_13', 'v_14'],\n",
       "      dtype='object')"
      ]
     },
     "execution_count": 3,
     "metadata": {},
     "output_type": "execute_result"
    }
   ],
   "source": [
    "data_train.columns"
   ]
  },
  {
   "cell_type": "markdown",
   "metadata": {},
   "source": [
    "- 数据清洗"
   ]
  },
  {
   "cell_type": "code",
   "execution_count": 4,
   "metadata": {},
   "outputs": [],
   "source": [
    "data_train.replace(to_replace = '-', value = np.nan, inplace = True)\n",
    "data_test.replace(to_replace = '-', value = np.nan, inplace = True)"
   ]
  },
  {
   "cell_type": "code",
   "execution_count": 5,
   "metadata": {},
   "outputs": [],
   "source": [
    "data_train.fillna(data_train.median(),inplace= True)\n",
    "data_test.fillna(data_train.median(),inplace= True)"
   ]
  },
  {
   "cell_type": "code",
   "execution_count": 6,
   "metadata": {},
   "outputs": [],
   "source": [
    "#特征标签\n",
    "tags = ['model','brand','bodyType','fuelType','regionCode','seller','regDate','creatDate','kilometer','notRepairedDamage','power','v_0', 'v_1', 'v_2', 'v_3', 'v_4', 'v_5', 'v_6',\n",
    "       'v_7', 'v_8', 'v_9', 'v_10', 'v_11', 'v_12', 'v_13', 'v_14']"
   ]
  },
  {
   "cell_type": "code",
   "execution_count": 7,
   "metadata": {},
   "outputs": [
    {
     "name": "stderr",
     "output_type": "stream",
     "text": [
      "D:\\anaconda\\lib\\site-packages\\ipykernel_launcher.py:2: SettingWithCopyWarning: \n",
      "A value is trying to be set on a copy of a slice from a DataFrame\n",
      "\n",
      "See the caveats in the documentation: https://pandas.pydata.org/pandas-docs/stable/user_guide/indexing.html#returning-a-view-versus-a-copy\n",
      "  \n",
      "D:\\anaconda\\lib\\site-packages\\ipykernel_launcher.py:3: SettingWithCopyWarning: \n",
      "A value is trying to be set on a copy of a slice from a DataFrame\n",
      "\n",
      "See the caveats in the documentation: https://pandas.pydata.org/pandas-docs/stable/user_guide/indexing.html#returning-a-view-versus-a-copy\n",
      "  This is separate from the ipykernel package so we can avoid doing imports until\n"
     ]
    }
   ],
   "source": [
    "#修改异常数据\n",
    "data_train['power'][data_train['power']>600]=600\n",
    "data_test['power'][data_test['power']>600]=600"
   ]
  },
  {
   "cell_type": "code",
   "execution_count": 8,
   "metadata": {},
   "outputs": [],
   "source": [
    "data_train['used_time'] = (pd.to_datetime(data_train['creatDate'], format='%Y%m%d', errors='coerce') - \n",
    "                            pd.to_datetime(data_train['regDate'], format='%Y%m%d', errors='coerce')).dt.days"
   ]
  },
  {
   "cell_type": "code",
   "execution_count": 9,
   "metadata": {},
   "outputs": [],
   "source": [
    "data_test['used_time'] = (pd.to_datetime(data_train['creatDate'], format='%Y%m%d', errors='coerce') - \n",
    "                            pd.to_datetime(data_train['regDate'], format='%Y%m%d', errors='coerce')).dt.days"
   ]
  },
  {
   "cell_type": "code",
   "execution_count": 10,
   "metadata": {},
   "outputs": [],
   "source": [
    "# tags.append(\"used_time\")"
   ]
  },
  {
   "cell_type": "code",
   "execution_count": 11,
   "metadata": {},
   "outputs": [],
   "source": [
    "#特征归一化\n",
    "min_max_scaler = MinMaxScaler()\n",
    "min_max_scaler.fit(data_train[tags].values)\n",
    "x = min_max_scaler.transform(data_train[tags].values)\n",
    "x_ = min_max_scaler.transform(data_test[tags].values)"
   ]
  },
  {
   "cell_type": "code",
   "execution_count": 12,
   "metadata": {},
   "outputs": [],
   "source": [
    "#获得y值\n",
    "y = data_train['price'].values"
   ]
  },
  {
   "cell_type": "code",
   "execution_count": 13,
   "metadata": {},
   "outputs": [
    {
     "data": {
      "text/plain": [
       "(150000,)"
      ]
     },
     "execution_count": 13,
     "metadata": {},
     "output_type": "execute_result"
    }
   ],
   "source": [
    "y.shape"
   ]
  },
  {
   "cell_type": "code",
   "execution_count": 14,
   "metadata": {},
   "outputs": [],
   "source": [
    "# x = x.reshape(x.shape[0],x.shape[1],1)\n",
    "# y = y.reshape(y.shape[0],-1,1)"
   ]
  },
  {
   "cell_type": "code",
   "execution_count": 15,
   "metadata": {},
   "outputs": [],
   "source": [
    "#切分数据集\n",
    "x_train,x_test,y_train,y_test = train_test_split(x,y,test_size = 0.2)"
   ]
  },
  {
   "cell_type": "code",
   "execution_count": 16,
   "metadata": {},
   "outputs": [],
   "source": [
    "Bathc_size = 2048"
   ]
  },
  {
   "cell_type": "code",
   "execution_count": null,
   "metadata": {},
   "outputs": [],
   "source": []
  },
  {
   "cell_type": "code",
   "execution_count": 17,
   "metadata": {},
   "outputs": [],
   "source": [
    "optim = keras.optimizers.Adam()"
   ]
  },
  {
   "cell_type": "markdown",
   "metadata": {},
   "source": [
    "- 建模"
   ]
  },
  {
   "cell_type": "code",
   "execution_count": 68,
   "metadata": {},
   "outputs": [],
   "source": [
    "model = keras.Sequential([\n",
    "#         keras.layers.Dense(1024),\n",
    "        keras.layers.Dense(1000,activation='relu'),\n",
    "        keras.layers.Dense(500,activation='relu'),\n",
    "        keras.layers.Dense(300,activation='relu'),\n",
    "        keras.layers.Dense(250,activation='relu'),\n",
    "        keras.layers.Dense(100,activation='relu'),\n",
    "        keras.layers.Dense(10,activation='relu'),\n",
    "        keras.layers.Dense(1)])\n",
    "model.compile(loss='mean_absolute_error',\n",
    "                optimizer='Adam')"
   ]
  },
  {
   "cell_type": "code",
   "execution_count": 69,
   "metadata": {
    "scrolled": true
   },
   "outputs": [
    {
     "name": "stdout",
     "output_type": "stream",
     "text": [
      "Train on 120000 samples\n",
      "Epoch 1/200\n",
      "120000/120000 [==============================] - 1s 6us/sample - loss: 5299.1345\n",
      "Epoch 2/200\n",
      "120000/120000 [==============================] - 0s 3us/sample - loss: 3432.6845\n",
      "Epoch 3/200\n",
      "120000/120000 [==============================] - 0s 3us/sample - loss: 1221.7669\n",
      "Epoch 4/200\n",
      "120000/120000 [==============================] - 0s 3us/sample - loss: 1018.5412\n",
      "Epoch 5/200\n",
      "120000/120000 [==============================] - 0s 3us/sample - loss: 931.1155\n",
      "Epoch 6/200\n",
      "120000/120000 [==============================] - 0s 3us/sample - loss: 863.3029\n",
      "Epoch 7/200\n",
      "120000/120000 [==============================] - 0s 3us/sample - loss: 810.1035\n",
      "Epoch 8/200\n",
      "120000/120000 [==============================] - 0s 3us/sample - loss: 763.4543\n",
      "Epoch 9/200\n",
      "120000/120000 [==============================] - 0s 3us/sample - loss: 726.5500\n",
      "Epoch 10/200\n",
      "120000/120000 [==============================] - 0s 3us/sample - loss: 683.7367\n",
      "Epoch 11/200\n",
      "120000/120000 [==============================] - 0s 3us/sample - loss: 670.7232\n",
      "Epoch 12/200\n",
      "120000/120000 [==============================] - 0s 3us/sample - loss: 631.9138\n",
      "Epoch 13/200\n",
      "120000/120000 [==============================] - 0s 3us/sample - loss: 613.7710\n",
      "Epoch 14/200\n",
      "120000/120000 [==============================] - 0s 3us/sample - loss: 601.0688\n",
      "Epoch 15/200\n",
      "120000/120000 [==============================] - 0s 3us/sample - loss: 586.0851\n",
      "Epoch 16/200\n",
      "120000/120000 [==============================] - 0s 3us/sample - loss: 591.8846\n",
      "Epoch 17/200\n",
      "120000/120000 [==============================] - 0s 3us/sample - loss: 568.4941\n",
      "Epoch 18/200\n",
      "120000/120000 [==============================] - 0s 3us/sample - loss: 560.0963\n",
      "Epoch 19/200\n",
      "120000/120000 [==============================] - 0s 3us/sample - loss: 600.8441\n",
      "Epoch 20/200\n",
      "120000/120000 [==============================] - 0s 3us/sample - loss: 599.5934\n",
      "Epoch 21/200\n",
      "120000/120000 [==============================] - 0s 3us/sample - loss: 565.5707\n",
      "Epoch 22/200\n",
      "120000/120000 [==============================] - 0s 3us/sample - loss: 534.6061\n",
      "Epoch 23/200\n",
      "120000/120000 [==============================] - 0s 3us/sample - loss: 535.4087\n",
      "Epoch 24/200\n",
      "120000/120000 [==============================] - 0s 3us/sample - loss: 538.7571\n",
      "Epoch 25/200\n",
      "120000/120000 [==============================] - 0s 3us/sample - loss: 534.0364\n",
      "Epoch 26/200\n",
      "120000/120000 [==============================] - 0s 3us/sample - loss: 554.4614\n",
      "Epoch 27/200\n",
      "120000/120000 [==============================] - 0s 3us/sample - loss: 553.2811\n",
      "Epoch 28/200\n",
      "120000/120000 [==============================] - 0s 3us/sample - loss: 521.2771\n",
      "Epoch 29/200\n",
      "120000/120000 [==============================] - 0s 3us/sample - loss: 522.2678\n",
      "Epoch 30/200\n",
      "120000/120000 [==============================] - 0s 3us/sample - loss: 550.0306\n",
      "Epoch 31/200\n",
      "120000/120000 [==============================] - 0s 3us/sample - loss: 533.1618\n",
      "Epoch 32/200\n",
      "120000/120000 [==============================] - 0s 3us/sample - loss: 519.3659\n",
      "Epoch 33/200\n",
      "120000/120000 [==============================] - 0s 3us/sample - loss: 538.2117\n",
      "Epoch 34/200\n",
      "120000/120000 [==============================] - 0s 3us/sample - loss: 513.0178\n",
      "Epoch 35/200\n",
      "120000/120000 [==============================] - 0s 3us/sample - loss: 511.7944\n",
      "Epoch 36/200\n",
      "120000/120000 [==============================] - 0s 3us/sample - loss: 510.7697\n",
      "Epoch 37/200\n",
      "120000/120000 [==============================] - 0s 3us/sample - loss: 506.1186\n",
      "Epoch 38/200\n",
      "120000/120000 [==============================] - 0s 3us/sample - loss: 507.8180\n",
      "Epoch 39/200\n",
      "120000/120000 [==============================] - 0s 3us/sample - loss: 506.3761\n",
      "Epoch 40/200\n",
      "120000/120000 [==============================] - 0s 3us/sample - loss: 502.5386\n",
      "Epoch 41/200\n",
      "120000/120000 [==============================] - 0s 3us/sample - loss: 505.7827\n",
      "Epoch 42/200\n",
      "120000/120000 [==============================] - 0s 3us/sample - loss: 507.7176\n",
      "Epoch 43/200\n",
      "120000/120000 [==============================] - 0s 3us/sample - loss: 507.2589\n",
      "Epoch 44/200\n",
      "120000/120000 [==============================] - 0s 3us/sample - loss: 516.3208\n",
      "Epoch 45/200\n",
      "120000/120000 [==============================] - 0s 3us/sample - loss: 524.6679\n",
      "Epoch 46/200\n",
      "120000/120000 [==============================] - 0s 3us/sample - loss: 501.2671\n",
      "Epoch 47/200\n",
      "120000/120000 [==============================] - 0s 3us/sample - loss: 500.5003\n",
      "Epoch 48/200\n",
      "120000/120000 [==============================] - 0s 3us/sample - loss: 494.1052\n",
      "Epoch 49/200\n",
      "120000/120000 [==============================] - 0s 3us/sample - loss: 498.9931\n",
      "Epoch 50/200\n",
      "120000/120000 [==============================] - 0s 3us/sample - loss: 496.8461\n",
      "Epoch 51/200\n",
      "120000/120000 [==============================] - 0s 3us/sample - loss: 493.5010\n",
      "Epoch 52/200\n",
      "120000/120000 [==============================] - 0s 3us/sample - loss: 500.7581\n",
      "Epoch 53/200\n",
      "120000/120000 [==============================] - 0s 3us/sample - loss: 487.8517\n",
      "Epoch 54/200\n",
      "120000/120000 [==============================] - 0s 3us/sample - loss: 494.0103\n",
      "Epoch 55/200\n",
      "120000/120000 [==============================] - 0s 3us/sample - loss: 497.0099\n",
      "Epoch 56/200\n",
      "120000/120000 [==============================] - 0s 3us/sample - loss: 489.7035\n",
      "Epoch 57/200\n",
      "120000/120000 [==============================] - 0s 3us/sample - loss: 494.9124\n",
      "Epoch 58/200\n",
      "120000/120000 [==============================] - 0s 3us/sample - loss: 487.6291\n",
      "Epoch 59/200\n",
      "120000/120000 [==============================] - 0s 3us/sample - loss: 502.3893\n",
      "Epoch 60/200\n",
      "120000/120000 [==============================] - 0s 3us/sample - loss: 531.5875\n",
      "Epoch 61/200\n",
      "120000/120000 [==============================] - 0s 3us/sample - loss: 483.0302\n",
      "Epoch 62/200\n",
      "120000/120000 [==============================] - 0s 3us/sample - loss: 483.3859\n",
      "Epoch 63/200\n",
      "120000/120000 [==============================] - 0s 3us/sample - loss: 516.2972\n",
      "Epoch 64/200\n",
      "120000/120000 [==============================] - 0s 3us/sample - loss: 487.6723\n",
      "Epoch 65/200\n",
      "120000/120000 [==============================] - 0s 3us/sample - loss: 485.1063\n",
      "Epoch 66/200\n",
      "120000/120000 [==============================] - 0s 3us/sample - loss: 522.5014\n",
      "Epoch 67/200\n",
      "120000/120000 [==============================] - 0s 3us/sample - loss: 477.6304\n",
      "Epoch 68/200\n",
      "120000/120000 [==============================] - 0s 3us/sample - loss: 475.3624\n",
      "Epoch 69/200\n",
      "120000/120000 [==============================] - 0s 3us/sample - loss: 476.0037\n",
      "Epoch 70/200\n",
      "120000/120000 [==============================] - 0s 3us/sample - loss: 478.2618\n",
      "Epoch 71/200\n",
      "120000/120000 [==============================] - 0s 3us/sample - loss: 479.9305\n",
      "Epoch 72/200\n",
      "120000/120000 [==============================] - 0s 3us/sample - loss: 475.9583\n",
      "Epoch 73/200\n",
      "120000/120000 [==============================] - 0s 3us/sample - loss: 476.1954\n",
      "Epoch 74/200\n",
      "120000/120000 [==============================] - 0s 3us/sample - loss: 474.2169\n",
      "Epoch 75/200\n",
      "120000/120000 [==============================] - 0s 3us/sample - loss: 475.1700\n",
      "Epoch 76/200\n",
      "120000/120000 [==============================] - 0s 3us/sample - loss: 473.7733\n",
      "Epoch 77/200\n",
      "120000/120000 [==============================] - 0s 3us/sample - loss: 475.4913\n",
      "Epoch 78/200\n",
      "120000/120000 [==============================] - 0s 3us/sample - loss: 518.8373\n",
      "Epoch 79/200\n",
      "120000/120000 [==============================] - 0s 3us/sample - loss: 489.8892\n",
      "Epoch 80/200\n",
      "120000/120000 [==============================] - 0s 3us/sample - loss: 468.8501\n",
      "Epoch 81/200\n",
      "120000/120000 [==============================] - 0s 3us/sample - loss: 472.8992\n",
      "Epoch 82/200\n",
      "120000/120000 [==============================] - 0s 3us/sample - loss: 469.1389\n",
      "Epoch 83/200\n",
      "120000/120000 [==============================] - 0s 3us/sample - loss: 470.0862\n",
      "Epoch 84/200\n",
      "120000/120000 [==============================] - 0s 3us/sample - loss: 476.1954\n",
      "Epoch 85/200\n",
      "120000/120000 [==============================] - 0s 3us/sample - loss: 508.9310\n",
      "Epoch 86/200\n",
      "120000/120000 [==============================] - 0s 3us/sample - loss: 471.4232\n",
      "Epoch 87/200\n",
      "120000/120000 [==============================] - 0s 3us/sample - loss: 467.6392\n",
      "Epoch 88/200\n"
     ]
    },
    {
     "name": "stdout",
     "output_type": "stream",
     "text": [
      "120000/120000 [==============================] - 0s 3us/sample - loss: 467.5022\n",
      "Epoch 89/200\n",
      "120000/120000 [==============================] - 0s 3us/sample - loss: 470.2855\n",
      "Epoch 90/200\n",
      "120000/120000 [==============================] - 0s 3us/sample - loss: 504.8527\n",
      "Epoch 91/200\n",
      "120000/120000 [==============================] - 0s 3us/sample - loss: 463.5698\n",
      "Epoch 92/200\n",
      "120000/120000 [==============================] - 0s 3us/sample - loss: 466.5384\n",
      "Epoch 93/200\n",
      "120000/120000 [==============================] - 0s 3us/sample - loss: 469.8630\n",
      "Epoch 94/200\n",
      "120000/120000 [==============================] - 0s 3us/sample - loss: 462.2671\n",
      "Epoch 95/200\n",
      "120000/120000 [==============================] - 0s 3us/sample - loss: 470.6247\n",
      "Epoch 96/200\n",
      "120000/120000 [==============================] - 0s 3us/sample - loss: 465.6139\n",
      "Epoch 97/200\n",
      "120000/120000 [==============================] - 0s 3us/sample - loss: 466.5660\n",
      "Epoch 98/200\n",
      "120000/120000 [==============================] - 0s 3us/sample - loss: 467.4570\n",
      "Epoch 99/200\n",
      "120000/120000 [==============================] - 0s 3us/sample - loss: 466.7787\n",
      "Epoch 100/200\n",
      "120000/120000 [==============================] - 0s 3us/sample - loss: 469.6494\n",
      "Epoch 101/200\n",
      "120000/120000 [==============================] - 0s 3us/sample - loss: 469.7316\n",
      "Epoch 102/200\n",
      "120000/120000 [==============================] - 0s 3us/sample - loss: 469.9634\n",
      "Epoch 103/200\n",
      "120000/120000 [==============================] - 0s 3us/sample - loss: 471.2847\n",
      "Epoch 104/200\n",
      "120000/120000 [==============================] - 0s 3us/sample - loss: 462.3606\n",
      "Epoch 105/200\n",
      "120000/120000 [==============================] - 0s 3us/sample - loss: 461.4232\n",
      "Epoch 106/200\n",
      "120000/120000 [==============================] - 0s 3us/sample - loss: 456.0338\n",
      "Epoch 107/200\n",
      "120000/120000 [==============================] - 0s 3us/sample - loss: 465.0027\n",
      "Epoch 108/200\n",
      "120000/120000 [==============================] - 0s 3us/sample - loss: 459.6640\n",
      "Epoch 109/200\n",
      "120000/120000 [==============================] - 0s 3us/sample - loss: 464.5582\n",
      "Epoch 110/200\n",
      "120000/120000 [==============================] - 0s 3us/sample - loss: 473.1158\n",
      "Epoch 111/200\n",
      "120000/120000 [==============================] - 0s 3us/sample - loss: 462.1924\n",
      "Epoch 112/200\n",
      "120000/120000 [==============================] - 0s 3us/sample - loss: 459.2937\n",
      "Epoch 113/200\n",
      "120000/120000 [==============================] - 0s 3us/sample - loss: 464.3882\n",
      "Epoch 114/200\n",
      "120000/120000 [==============================] - 0s 3us/sample - loss: 461.8334\n",
      "Epoch 115/200\n",
      "120000/120000 [==============================] - 0s 3us/sample - loss: 461.6818\n",
      "Epoch 116/200\n",
      "120000/120000 [==============================] - 0s 3us/sample - loss: 463.5819\n",
      "Epoch 117/200\n",
      "120000/120000 [==============================] - 0s 3us/sample - loss: 457.0474\n",
      "Epoch 118/200\n",
      "120000/120000 [==============================] - 0s 3us/sample - loss: 454.6076\n",
      "Epoch 119/200\n",
      "120000/120000 [==============================] - 0s 3us/sample - loss: 453.4584\n",
      "Epoch 120/200\n",
      "120000/120000 [==============================] - 0s 3us/sample - loss: 508.1579\n",
      "Epoch 121/200\n",
      "120000/120000 [==============================] - 0s 3us/sample - loss: 505.2715\n",
      "Epoch 122/200\n",
      "120000/120000 [==============================] - 0s 3us/sample - loss: 477.9481\n",
      "Epoch 123/200\n",
      "120000/120000 [==============================] - 0s 3us/sample - loss: 491.6260\n",
      "Epoch 124/200\n",
      "120000/120000 [==============================] - 0s 3us/sample - loss: 454.3175\n",
      "Epoch 125/200\n",
      "120000/120000 [==============================] - 0s 3us/sample - loss: 452.1098\n",
      "Epoch 126/200\n",
      "120000/120000 [==============================] - 0s 3us/sample - loss: 450.9779\n",
      "Epoch 127/200\n",
      "120000/120000 [==============================] - 0s 3us/sample - loss: 450.8467\n",
      "Epoch 128/200\n",
      "120000/120000 [==============================] - 0s 3us/sample - loss: 453.3088\n",
      "Epoch 129/200\n",
      "120000/120000 [==============================] - 0s 3us/sample - loss: 448.3617\n",
      "Epoch 130/200\n",
      "120000/120000 [==============================] - 0s 3us/sample - loss: 449.0926\n",
      "Epoch 131/200\n",
      "120000/120000 [==============================] - 0s 3us/sample - loss: 451.9918\n",
      "Epoch 132/200\n",
      "120000/120000 [==============================] - 0s 3us/sample - loss: 449.2278\n",
      "Epoch 133/200\n",
      "120000/120000 [==============================] - 0s 3us/sample - loss: 455.1643\n",
      "Epoch 134/200\n",
      "120000/120000 [==============================] - 0s 3us/sample - loss: 453.1806\n",
      "Epoch 135/200\n",
      "120000/120000 [==============================] - 0s 3us/sample - loss: 449.8543\n",
      "Epoch 136/200\n",
      "120000/120000 [==============================] - 0s 3us/sample - loss: 489.5575\n",
      "Epoch 137/200\n",
      "120000/120000 [==============================] - 0s 3us/sample - loss: 458.9581\n",
      "Epoch 138/200\n",
      "120000/120000 [==============================] - 0s 3us/sample - loss: 444.6006\n",
      "Epoch 139/200\n",
      "120000/120000 [==============================] - 0s 3us/sample - loss: 447.5689\n",
      "Epoch 140/200\n",
      "120000/120000 [==============================] - 0s 3us/sample - loss: 445.3629\n",
      "Epoch 141/200\n",
      "120000/120000 [==============================] - 0s 3us/sample - loss: 456.7021\n",
      "Epoch 142/200\n",
      "120000/120000 [==============================] - 0s 3us/sample - loss: 449.9632\n",
      "Epoch 143/200\n",
      "120000/120000 [==============================] - 0s 3us/sample - loss: 503.5291\n",
      "Epoch 144/200\n",
      "120000/120000 [==============================] - 0s 3us/sample - loss: 467.7851\n",
      "Epoch 145/200\n",
      "120000/120000 [==============================] - 0s 3us/sample - loss: 447.6860\n",
      "Epoch 146/200\n",
      "120000/120000 [==============================] - 0s 3us/sample - loss: 453.5381\n",
      "Epoch 147/200\n",
      "120000/120000 [==============================] - 0s 3us/sample - loss: 456.9807\n",
      "Epoch 148/200\n",
      "120000/120000 [==============================] - 0s 3us/sample - loss: 450.1152\n",
      "Epoch 149/200\n",
      "120000/120000 [==============================] - 0s 3us/sample - loss: 452.4125\n",
      "Epoch 150/200\n",
      "120000/120000 [==============================] - 0s 3us/sample - loss: 442.1813\n",
      "Epoch 151/200\n",
      "120000/120000 [==============================] - 0s 3us/sample - loss: 447.6614\n",
      "Epoch 152/200\n",
      "120000/120000 [==============================] - 0s 3us/sample - loss: 447.0279\n",
      "Epoch 153/200\n",
      "120000/120000 [==============================] - 0s 3us/sample - loss: 446.4745\n",
      "Epoch 154/200\n",
      "120000/120000 [==============================] - 0s 3us/sample - loss: 445.2550\n",
      "Epoch 155/200\n",
      "120000/120000 [==============================] - 0s 3us/sample - loss: 442.5357 0s - loss: 445.\n",
      "Epoch 156/200\n",
      "120000/120000 [==============================] - 0s 3us/sample - loss: 453.3827\n",
      "Epoch 157/200\n",
      "120000/120000 [==============================] - 0s 3us/sample - loss: 448.0433\n",
      "Epoch 158/200\n",
      "120000/120000 [==============================] - 0s 3us/sample - loss: 447.1927\n",
      "Epoch 159/200\n",
      "120000/120000 [==============================] - 0s 3us/sample - loss: 442.4321\n",
      "Epoch 160/200\n",
      "120000/120000 [==============================] - 0s 3us/sample - loss: 455.4287\n",
      "Epoch 161/200\n",
      "120000/120000 [==============================] - 0s 3us/sample - loss: 449.1254\n",
      "Epoch 162/200\n",
      "120000/120000 [==============================] - 0s 3us/sample - loss: 439.8120\n",
      "Epoch 163/200\n",
      "120000/120000 [==============================] - 0s 3us/sample - loss: 441.8797\n",
      "Epoch 164/200\n",
      "120000/120000 [==============================] - 0s 3us/sample - loss: 439.9386\n",
      "Epoch 165/200\n",
      "120000/120000 [==============================] - 0s 3us/sample - loss: 438.1658\n",
      "Epoch 166/200\n",
      "120000/120000 [==============================] - 0s 3us/sample - loss: 440.1036\n",
      "Epoch 167/200\n",
      "120000/120000 [==============================] - 0s 3us/sample - loss: 456.0421\n",
      "Epoch 168/200\n",
      "120000/120000 [==============================] - 0s 3us/sample - loss: 500.2135\n",
      "Epoch 169/200\n",
      "120000/120000 [==============================] - 0s 3us/sample - loss: 482.2428\n",
      "Epoch 170/200\n",
      "120000/120000 [==============================] - 0s 3us/sample - loss: 445.0251\n",
      "Epoch 171/200\n",
      "120000/120000 [==============================] - 0s 3us/sample - loss: 435.8725\n",
      "Epoch 172/200\n",
      "120000/120000 [==============================] - 0s 3us/sample - loss: 436.7435\n",
      "Epoch 173/200\n",
      "120000/120000 [==============================] - 0s 3us/sample - loss: 442.5266\n",
      "Epoch 174/200\n",
      "120000/120000 [==============================] - 0s 3us/sample - loss: 442.2548\n",
      "Epoch 175/200\n"
     ]
    },
    {
     "name": "stdout",
     "output_type": "stream",
     "text": [
      "120000/120000 [==============================] - 0s 3us/sample - loss: 445.6677\n",
      "Epoch 176/200\n",
      "120000/120000 [==============================] - 0s 3us/sample - loss: 442.8845\n",
      "Epoch 177/200\n",
      "120000/120000 [==============================] - 0s 3us/sample - loss: 436.9057\n",
      "Epoch 178/200\n",
      "120000/120000 [==============================] - 0s 3us/sample - loss: 442.1777\n",
      "Epoch 179/200\n",
      "120000/120000 [==============================] - 0s 3us/sample - loss: 436.8034\n",
      "Epoch 180/200\n",
      "120000/120000 [==============================] - 0s 3us/sample - loss: 444.3141\n",
      "Epoch 181/200\n",
      "120000/120000 [==============================] - 0s 3us/sample - loss: 440.2351\n",
      "Epoch 182/200\n",
      "120000/120000 [==============================] - 0s 3us/sample - loss: 439.7444\n",
      "Epoch 183/200\n",
      "120000/120000 [==============================] - 0s 3us/sample - loss: 461.7606\n",
      "Epoch 184/200\n",
      "120000/120000 [==============================] - 0s 3us/sample - loss: 457.4408\n",
      "Epoch 185/200\n",
      "120000/120000 [==============================] - 0s 3us/sample - loss: 433.7301\n",
      "Epoch 186/200\n",
      "120000/120000 [==============================] - 0s 3us/sample - loss: 437.2562\n",
      "Epoch 187/200\n",
      "120000/120000 [==============================] - 0s 3us/sample - loss: 436.6750\n",
      "Epoch 188/200\n",
      "120000/120000 [==============================] - 0s 3us/sample - loss: 437.1225\n",
      "Epoch 189/200\n",
      "120000/120000 [==============================] - 0s 3us/sample - loss: 435.7701\n",
      "Epoch 190/200\n",
      "120000/120000 [==============================] - 0s 3us/sample - loss: 433.4427\n",
      "Epoch 191/200\n",
      "120000/120000 [==============================] - 0s 3us/sample - loss: 440.8773\n",
      "Epoch 192/200\n",
      "120000/120000 [==============================] - 0s 3us/sample - loss: 433.2825\n",
      "Epoch 193/200\n",
      "120000/120000 [==============================] - 0s 3us/sample - loss: 439.2177\n",
      "Epoch 194/200\n",
      "120000/120000 [==============================] - 0s 3us/sample - loss: 433.8737\n",
      "Epoch 195/200\n",
      "120000/120000 [==============================] - 0s 3us/sample - loss: 484.5116\n",
      "Epoch 196/200\n",
      "120000/120000 [==============================] - 0s 3us/sample - loss: 484.2036\n",
      "Epoch 197/200\n",
      "120000/120000 [==============================] - 0s 3us/sample - loss: 461.6276\n",
      "Epoch 198/200\n",
      "120000/120000 [==============================] - 0s 3us/sample - loss: 441.0825\n",
      "Epoch 199/200\n",
      "120000/120000 [==============================] - 0s 3us/sample - loss: 434.5257\n",
      "Epoch 200/200\n",
      "120000/120000 [==============================] - 0s 3us/sample - loss: 430.7130\n"
     ]
    },
    {
     "data": {
      "text/plain": [
       "<tensorflow.python.keras.callbacks.History at 0x1f1850fb548>"
      ]
     },
     "execution_count": 69,
     "metadata": {},
     "output_type": "execute_result"
    }
   ],
   "source": [
    "model.fit(x_train,y_train,batch_size = 2048,epochs=200)"
   ]
  },
  {
   "cell_type": "code",
   "execution_count": 72,
   "metadata": {},
   "outputs": [],
   "source": []
  },
  {
   "cell_type": "code",
   "execution_count": 65,
   "metadata": {},
   "outputs": [
    {
     "data": {
      "text/plain": [
       "[<matplotlib.lines.Line2D at 0x1f183f43c08>]"
      ]
     },
     "execution_count": 65,
     "metadata": {},
     "output_type": "execute_result"
    },
    {
     "data": {
      "image/png": "[encoded data removed]",
      "text/plain": [
       "<Figure size 432x288 with 1 Axes>"
      ]
     },
     "metadata": {
      "needs_background": "light"
     },
     "output_type": "display_data"
    }
   ],
   "source": [
    "import matplotlib.pyplot as plt\n",
    "\n",
    "plt.plot(model.history.history['loss'])"
   ]
  },
  {
   "cell_type": "code",
   "execution_count": 70,
   "metadata": {},
   "outputs": [
    {
     "data": {
      "text/plain": [
       "424.5878193009774"
      ]
     },
     "execution_count": 70,
     "metadata": {},
     "output_type": "execute_result"
    }
   ],
   "source": [
    "#比较训练集和测试集效果\n",
    "mean_absolute_error(y_train,model.predict(x_train))"
   ]
  },
  {
   "cell_type": "code",
   "execution_count": 77,
   "metadata": {},
   "outputs": [
    {
     "data": {
      "text/plain": [
       "459.20423568589933"
      ]
     },
     "execution_count": 77,
     "metadata": {},
     "output_type": "execute_result"
    }
   ],
   "source": [
    "erro = mean_absolute_error(y_test,model.predict(x_test))\n",
    "erro "
   ]
  },
  {
   "cell_type": "code",
   "execution_count": 78,
   "metadata": {},
   "outputs": [],
   "source": [
    "model.save(str(int(erro))+\".h5\")"
   ]
  },
  {
   "cell_type": "code",
   "execution_count": 79,
   "metadata": {},
   "outputs": [],
   "source": [
    "model.load_weights(str(int(erro))+\".h5\")"
   ]
  },
  {
   "cell_type": "code",
   "execution_count": null,
   "metadata": {},
   "outputs": [],
   "source": []
  },
  {
   "cell_type": "code",
   "execution_count": null,
   "metadata": {},
   "outputs": [],
   "source": []
  },
  {
   "cell_type": "code",
   "execution_count": null,
   "metadata": {},
   "outputs": [],
   "source": []
  },
  {
   "cell_type": "code",
   "execution_count": null,
   "metadata": {},
   "outputs": [],
   "source": []
  },
  {
   "cell_type": "markdown",
   "metadata": {},
   "source": [
    "447 已提交"
   ]
  },
  {
   "cell_type": "code",
   "execution_count": null,
   "metadata": {},
   "outputs": [],
   "source": []
  },
  {
   "cell_type": "markdown",
   "metadata": {},
   "source": [
    "测试集比训练集mae还小，说明可以继续训练。但本页代码只起到抛砖引玉的作用。经过简单的调整隐藏层结构，比赛成绩可以达到450左右。笔者曾经过对原始数据进行过one-hot编码，效果反而更差了，内存吃不消。初步发现原始信息保留越完整，神经网络的效果越强，凡是造成信息丢失的处理，可能都会降低神经网络的效果。\n",
    "我通过这个案例发现，利用神经网络进行回归分析确实比传统特征工程建模要无脑一些，将特征提取的过程也自动化了。虽然解释性变弱了，但如果以预测结果的准确率为首要目标的话，神经网络明显胜出。"
   ]
  },
  {
   "cell_type": "markdown",
   "metadata": {},
   "source": [
    "#### 结果保存"
   ]
  },
  {
   "cell_type": "code",
   "execution_count": 80,
   "metadata": {},
   "outputs": [],
   "source": [
    "#输出结果预测\n",
    "y_=model.predict(x_)"
   ]
  },
  {
   "cell_type": "code",
   "execution_count": 81,
   "metadata": {},
   "outputs": [],
   "source": [
    "data_test_price = pd.DataFrame(y_,columns = ['price'])\n",
    "results = pd.concat([data_test['SaleID'],data_test_price],axis = 1)\n",
    "results.to_csv('results_ne.csv',sep = ',',index = None)"
   ]
  },
  {
   "cell_type": "code",
   "execution_count": null,
   "metadata": {},
   "outputs": [],
   "source": []
  }
 ],
 "metadata": {
  "kernelspec": {
   "display_name": "Python 3",
   "language": "python",
   "name": "python3"
  },
  "language_info": {
   "codemirror_mode": {
    "name": "ipython",
    "version": 3
   },
   "file_extension": ".py",
   "mimetype": "text/x-python",
   "name": "python",
   "nbconvert_exporter": "python",
   "pygments_lexer": "ipython3",
   "version": "3.7.7"
  },
  "toc": {
   "base_numbering": 1,
   "nav_menu": {},
   "number_sections": true,
   "sideBar": true,
   "skip_h1_title": false,
   "title_cell": "Table of Contents",
   "title_sidebar": "Contents",
   "toc_cell": false,
   "toc_position": {},
   "toc_section_display": true,
   "toc_window_display": false
  }
 },
 "nbformat": 4,
 "nbformat_minor": 2
}
