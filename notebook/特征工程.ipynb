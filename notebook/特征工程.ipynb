{
 "cells": [
  {
   "cell_type": "code",
   "execution_count": 35,
   "metadata": {},
   "outputs": [],
   "source": [
    "import numpy as np\n",
    "import pandas as pd\n",
    "import matplotlib.pyplot as plt\n",
    "import seaborn as sns\n",
    "from sklearn.model_selection import train_test_split\n",
    "from sklearn.svm import SVR\n",
    "from sklearn.ensemble import RandomForestRegressor,GradientBoostingRegressor\n",
    "from sklearn.decomposition import PCA,FastICA,FactorAnalysis,SparsePCA\n",
    "\n",
    "import lightgbm as lgb\n",
    "import xgboost as xgb\n",
    "\n",
    "## 参数搜索和评价的\n",
    "from sklearn.model_selection import GridSearchCV,cross_val_score,StratifiedKFold,train_test_split\n",
    "from sklearn.metrics import mean_squared_error, mean_absolute_error\n",
    "from sklearn.preprocessing import MinMaxScaler\n",
    "\n",
    "from sklearn.linear_model import LinearRegression\n",
    "from sklearn.svm import SVC\n",
    "from sklearn.tree import DecisionTreeRegressor\n",
    "from sklearn.ensemble import RandomForestRegressor\n",
    "from sklearn.ensemble import GradientBoostingRegressor\n",
    "from sklearn.neural_network import MLPRegressor\n",
    "from xgboost.sklearn import XGBRegressor\n",
    "from lightgbm.sklearn import LGBMRegressor"
   ]
  },
  {
   "cell_type": "code",
   "execution_count": 36,
   "metadata": {},
   "outputs": [],
   "source": [
    "train_set = pd.read_csv(\"../dataset/used_car_train_20200313.csv\",sep=\" \")\n",
    "test_set = pd.read_csv(\"../dataset/used_car_testA_20200313.csv\",sep=\" \")"
   ]
  },
  {
   "cell_type": "code",
   "execution_count": 37,
   "metadata": {},
   "outputs": [
    {
     "name": "stdout",
     "output_type": "stream",
     "text": [
      "Index(['SaleID', 'name', 'regDate', 'model', 'brand', 'bodyType', 'fuelType',\n",
      "       'gearbox', 'power', 'kilometer', 'notRepairedDamage', 'regionCode',\n",
      "       'seller', 'offerType', 'creatDate', 'price', 'v_0', 'v_1', 'v_2', 'v_3',\n",
      "       'v_4', 'v_5', 'v_6', 'v_7', 'v_8', 'v_9', 'v_10', 'v_11', 'v_12',\n",
      "       'v_13', 'v_14'],\n",
      "      dtype='object')\n",
      "Index(['SaleID', 'name', 'regDate', 'model', 'brand', 'bodyType', 'fuelType',\n",
      "       'gearbox', 'power', 'kilometer', 'notRepairedDamage', 'regionCode',\n",
      "       'seller', 'offerType', 'creatDate', 'v_0', 'v_1', 'v_2', 'v_3', 'v_4',\n",
      "       'v_5', 'v_6', 'v_7', 'v_8', 'v_9', 'v_10', 'v_11', 'v_12', 'v_13',\n",
      "       'v_14'],\n",
      "      dtype='object')\n"
     ]
    }
   ],
   "source": [
    "print(train_set.columns)\n",
    "print(test_set.columns)"
   ]
  },
  {
   "cell_type": "code",
   "execution_count": 38,
   "metadata": {},
   "outputs": [],
   "source": [
    "train_set = train_set.drop([\"seller\",\"offerType\",\"name\"],axis=1)\n",
    "test_set = test_set.drop([\"seller\",\"offerType\",\"name\"],axis=1)"
   ]
  },
  {
   "cell_type": "code",
   "execution_count": 39,
   "metadata": {},
   "outputs": [
    {
     "name": "stdout",
     "output_type": "stream",
     "text": [
      "<class 'pandas.core.frame.DataFrame'>\n",
      "RangeIndex: 150000 entries, 0 to 149999\n",
      "Data columns (total 28 columns):\n",
      " #   Column             Non-Null Count   Dtype  \n",
      "---  ------             --------------   -----  \n",
      " 0   SaleID             150000 non-null  int64  \n",
      " 1   regDate            150000 non-null  int64  \n",
      " 2   model              149999 non-null  float64\n",
      " 3   brand              150000 non-null  int64  \n",
      " 4   bodyType           145494 non-null  float64\n",
      " 5   fuelType           141320 non-null  float64\n",
      " 6   gearbox            144019 non-null  float64\n",
      " 7   power              150000 non-null  int64  \n",
      " 8   kilometer          150000 non-null  float64\n",
      " 9   notRepairedDamage  150000 non-null  object \n",
      " 10  regionCode         150000 non-null  int64  \n",
      " 11  creatDate          150000 non-null  int64  \n",
      " 12  price              150000 non-null  int64  \n",
      " 13  v_0                150000 non-null  float64\n",
      " 14  v_1                150000 non-null  float64\n",
      " 15  v_2                150000 non-null  float64\n",
      " 16  v_3                150000 non-null  float64\n",
      " 17  v_4                150000 non-null  float64\n",
      " 18  v_5                150000 non-null  float64\n",
      " 19  v_6                150000 non-null  float64\n",
      " 20  v_7                150000 non-null  float64\n",
      " 21  v_8                150000 non-null  float64\n",
      " 22  v_9                150000 non-null  float64\n",
      " 23  v_10               150000 non-null  float64\n",
      " 24  v_11               150000 non-null  float64\n",
      " 25  v_12               150000 non-null  float64\n",
      " 26  v_13               150000 non-null  float64\n",
      " 27  v_14               150000 non-null  float64\n",
      "dtypes: float64(20), int64(7), object(1)\n",
      "memory usage: 32.0+ MB\n"
     ]
    }
   ],
   "source": [
    "train_set.info()"
   ]
  },
  {
   "cell_type": "code",
   "execution_count": 40,
   "metadata": {},
   "outputs": [
    {
     "name": "stdout",
     "output_type": "stream",
     "text": [
      "SaleID 150000\n",
      "regDate 3894\n",
      "model 249\n",
      "brand 40\n",
      "bodyType 9\n",
      "fuelType 8\n",
      "gearbox 3\n",
      "power 566\n",
      "kilometer 13\n",
      "notRepairedDamage 3\n",
      "regionCode 7905\n",
      "creatDate 96\n",
      "price 3763\n",
      "v_0 143997\n",
      "v_1 143998\n",
      "v_2 143997\n",
      "v_3 143998\n",
      "v_4 143998\n",
      "v_5 139624\n",
      "v_6 109766\n",
      "v_7 138709\n",
      "v_8 142451\n",
      "v_9 140617\n",
      "v_10 143997\n",
      "v_11 143997\n",
      "v_12 143997\n",
      "v_13 143998\n",
      "v_14 143998\n"
     ]
    }
   ],
   "source": [
    "for i in train_set.columns:\n",
    "    print(i,train_set[i].unique().size)"
   ]
  },
  {
   "cell_type": "code",
   "execution_count": 41,
   "metadata": {},
   "outputs": [
    {
     "name": "stderr",
     "output_type": "stream",
     "text": [
      "D:\\anaconda\\lib\\site-packages\\ipykernel_launcher.py:15: SettingWithCopyWarning: \n",
      "A value is trying to be set on a copy of a slice from a DataFrame\n",
      "\n",
      "See the caveats in the documentation: https://pandas.pydata.org/pandas-docs/stable/user_guide/indexing.html#returning-a-view-versus-a-copy\n",
      "  from ipykernel import kernelapp as app\n",
      "D:\\anaconda\\lib\\site-packages\\ipykernel_launcher.py:16: SettingWithCopyWarning: \n",
      "A value is trying to be set on a copy of a slice from a DataFrame\n",
      "\n",
      "See the caveats in the documentation: https://pandas.pydata.org/pandas-docs/stable/user_guide/indexing.html#returning-a-view-versus-a-copy\n",
      "  app.launch_new_instance()\n"
     ]
    }
   ],
   "source": [
    "#power\n",
    "def outliers_proc(data, col_name, scale=3):\n",
    "    \"\"\"\n",
    "        用于截尾异常值， 默认用box_plot(scale=3)进行清洗\n",
    "        param:\n",
    "            data：接收pandas数据格式\n",
    "            col_name: pandas列名\n",
    "            scale: 尺度\n",
    "    \"\"\"\n",
    "    data_col = data[col_name]\n",
    "    Q1 = data_col.quantile(0.25) # 0.25分位数\n",
    "    Q3 = data_col.quantile(0.75)  # 0,75分位数\n",
    "    IQR = Q3 - Q1\n",
    "\n",
    "    data_col[data_col < Q1 - (scale * IQR)] = Q1 - (scale * IQR)\n",
    "    data_col[data_col > Q3 + (scale * IQR)] = Q3 + (scale * IQR)\n",
    "\n",
    "    return data[col_name]\n",
    "\n",
    "train_set[\"power\"] = outliers_proc(train_set,'power')"
   ]
  },
  {
   "cell_type": "code",
   "execution_count": 49,
   "metadata": {},
   "outputs": [
    {
     "name": "stdout",
     "output_type": "stream",
     "text": [
      "0    0.0\n",
      "dtype: float64\n"
     ]
    }
   ],
   "source": [
    "'''\n",
    "bodyType             4506\n",
    "fuelType             8680\n",
    "gearbox              5981\n",
    "'''\n",
    "print(train_set.gearbox.mode())\n",
    "train_set[\"bodyType\"] = train_set.bodyType.fillna(-1)\n",
    "train_set[\"fuelType\"] = train_set.fuelType.fillna(train_set.fuelType.mode())\n",
    "train_set[\"gearbox\"] = train_set.gearbox.fillna(train_set.gearbox.mode())\n",
    "\n",
    "test_set[\"bodyType\"] = test_set.bodyType.fillna(test_set.bodyType.mode())\n",
    "test_set[\"fuelType\"] = test_set.fuelType.fillna(test_set.fuelType.mode())\n",
    "test_set[\"gearbox\"] = test_set.gearbox.fillna(test_set.gearbox.mode())"
   ]
  },
  {
   "cell_type": "code",
   "execution_count": 51,
   "metadata": {},
   "outputs": [
    {
     "data": {
      "text/plain": [
       "0.0    111623\n",
       "1.0     32396\n",
       "Name: gearbox, dtype: int64"
      ]
     },
     "execution_count": 51,
     "metadata": {},
     "output_type": "execute_result"
    }
   ],
   "source": [
    "train_set[\"gearbox\"].value_counts()"
   ]
  },
  {
   "cell_type": "code",
   "execution_count": 9,
   "metadata": {},
   "outputs": [],
   "source": [
    "train_set[\"train\"] = 1\n",
    "test_set[\"train\"] = 0\n",
    "data = pd.concat([train_set,test_set],ignore_index=True)"
   ]
  },
  {
   "cell_type": "code",
   "execution_count": 10,
   "metadata": {},
   "outputs": [
    {
     "data": {
      "text/html": [
       "<div>\n",
       "<style scoped>\n",
       "    .dataframe tbody tr th:only-of-type {\n",
       "        vertical-align: middle;\n",
       "    }\n",
       "\n",
       "    .dataframe tbody tr th {\n",
       "        vertical-align: top;\n",
       "    }\n",
       "\n",
       "    .dataframe thead th {\n",
       "        text-align: right;\n",
       "    }\n",
       "</style>\n",
       "<table border=\"1\" class=\"dataframe\">\n",
       "  <thead>\n",
       "    <tr style=\"text-align: right;\">\n",
       "      <th></th>\n",
       "      <th>SaleID</th>\n",
       "      <th>regDate</th>\n",
       "      <th>model</th>\n",
       "      <th>brand</th>\n",
       "      <th>bodyType</th>\n",
       "      <th>fuelType</th>\n",
       "      <th>gearbox</th>\n",
       "      <th>power</th>\n",
       "      <th>kilometer</th>\n",
       "      <th>notRepairedDamage</th>\n",
       "      <th>...</th>\n",
       "      <th>v_6</th>\n",
       "      <th>v_7</th>\n",
       "      <th>v_8</th>\n",
       "      <th>v_9</th>\n",
       "      <th>v_10</th>\n",
       "      <th>v_11</th>\n",
       "      <th>v_12</th>\n",
       "      <th>v_13</th>\n",
       "      <th>v_14</th>\n",
       "      <th>train</th>\n",
       "    </tr>\n",
       "  </thead>\n",
       "  <tbody>\n",
       "    <tr>\n",
       "      <th>0</th>\n",
       "      <td>0</td>\n",
       "      <td>20040402</td>\n",
       "      <td>30.0</td>\n",
       "      <td>6</td>\n",
       "      <td>1.0</td>\n",
       "      <td>0.0</td>\n",
       "      <td>0.0</td>\n",
       "      <td>60</td>\n",
       "      <td>12.5</td>\n",
       "      <td>0.0</td>\n",
       "      <td>...</td>\n",
       "      <td>0.101988</td>\n",
       "      <td>0.129549</td>\n",
       "      <td>0.022816</td>\n",
       "      <td>0.097462</td>\n",
       "      <td>-2.881803</td>\n",
       "      <td>2.804097</td>\n",
       "      <td>-2.420821</td>\n",
       "      <td>0.795292</td>\n",
       "      <td>0.914762</td>\n",
       "      <td>1</td>\n",
       "    </tr>\n",
       "    <tr>\n",
       "      <th>1</th>\n",
       "      <td>1</td>\n",
       "      <td>20030301</td>\n",
       "      <td>40.0</td>\n",
       "      <td>1</td>\n",
       "      <td>2.0</td>\n",
       "      <td>0.0</td>\n",
       "      <td>0.0</td>\n",
       "      <td>0</td>\n",
       "      <td>15.0</td>\n",
       "      <td>-</td>\n",
       "      <td>...</td>\n",
       "      <td>0.121004</td>\n",
       "      <td>0.135731</td>\n",
       "      <td>0.026597</td>\n",
       "      <td>0.020582</td>\n",
       "      <td>-4.900482</td>\n",
       "      <td>2.096338</td>\n",
       "      <td>-1.030483</td>\n",
       "      <td>-1.722674</td>\n",
       "      <td>0.245522</td>\n",
       "      <td>1</td>\n",
       "    </tr>\n",
       "    <tr>\n",
       "      <th>2</th>\n",
       "      <td>2</td>\n",
       "      <td>20040403</td>\n",
       "      <td>115.0</td>\n",
       "      <td>15</td>\n",
       "      <td>1.0</td>\n",
       "      <td>0.0</td>\n",
       "      <td>0.0</td>\n",
       "      <td>163</td>\n",
       "      <td>12.5</td>\n",
       "      <td>0.0</td>\n",
       "      <td>...</td>\n",
       "      <td>0.114912</td>\n",
       "      <td>0.165147</td>\n",
       "      <td>0.062173</td>\n",
       "      <td>0.027075</td>\n",
       "      <td>-4.846749</td>\n",
       "      <td>1.803559</td>\n",
       "      <td>1.565330</td>\n",
       "      <td>-0.832687</td>\n",
       "      <td>-0.229963</td>\n",
       "      <td>1</td>\n",
       "    </tr>\n",
       "    <tr>\n",
       "      <th>3</th>\n",
       "      <td>3</td>\n",
       "      <td>19960908</td>\n",
       "      <td>109.0</td>\n",
       "      <td>10</td>\n",
       "      <td>0.0</td>\n",
       "      <td>0.0</td>\n",
       "      <td>1.0</td>\n",
       "      <td>193</td>\n",
       "      <td>15.0</td>\n",
       "      <td>0.0</td>\n",
       "      <td>...</td>\n",
       "      <td>0.110300</td>\n",
       "      <td>0.121964</td>\n",
       "      <td>0.033395</td>\n",
       "      <td>0.000000</td>\n",
       "      <td>-4.509599</td>\n",
       "      <td>1.285940</td>\n",
       "      <td>-0.501868</td>\n",
       "      <td>-2.438353</td>\n",
       "      <td>-0.478699</td>\n",
       "      <td>1</td>\n",
       "    </tr>\n",
       "    <tr>\n",
       "      <th>4</th>\n",
       "      <td>4</td>\n",
       "      <td>20120103</td>\n",
       "      <td>110.0</td>\n",
       "      <td>5</td>\n",
       "      <td>1.0</td>\n",
       "      <td>0.0</td>\n",
       "      <td>0.0</td>\n",
       "      <td>68</td>\n",
       "      <td>5.0</td>\n",
       "      <td>0.0</td>\n",
       "      <td>...</td>\n",
       "      <td>0.073205</td>\n",
       "      <td>0.091880</td>\n",
       "      <td>0.078819</td>\n",
       "      <td>0.121534</td>\n",
       "      <td>-1.896240</td>\n",
       "      <td>0.910783</td>\n",
       "      <td>0.931110</td>\n",
       "      <td>2.834518</td>\n",
       "      <td>1.923482</td>\n",
       "      <td>1</td>\n",
       "    </tr>\n",
       "    <tr>\n",
       "      <th>...</th>\n",
       "      <td>...</td>\n",
       "      <td>...</td>\n",
       "      <td>...</td>\n",
       "      <td>...</td>\n",
       "      <td>...</td>\n",
       "      <td>...</td>\n",
       "      <td>...</td>\n",
       "      <td>...</td>\n",
       "      <td>...</td>\n",
       "      <td>...</td>\n",
       "      <td>...</td>\n",
       "      <td>...</td>\n",
       "      <td>...</td>\n",
       "      <td>...</td>\n",
       "      <td>...</td>\n",
       "      <td>...</td>\n",
       "      <td>...</td>\n",
       "      <td>...</td>\n",
       "      <td>...</td>\n",
       "      <td>...</td>\n",
       "      <td>...</td>\n",
       "    </tr>\n",
       "    <tr>\n",
       "      <th>199995</th>\n",
       "      <td>199995</td>\n",
       "      <td>19960503</td>\n",
       "      <td>4.0</td>\n",
       "      <td>4</td>\n",
       "      <td>4.0</td>\n",
       "      <td>0.0</td>\n",
       "      <td>0.0</td>\n",
       "      <td>116</td>\n",
       "      <td>15.0</td>\n",
       "      <td>0.0</td>\n",
       "      <td>...</td>\n",
       "      <td>0.130044</td>\n",
       "      <td>0.049833</td>\n",
       "      <td>0.028807</td>\n",
       "      <td>0.004616</td>\n",
       "      <td>-5.978511</td>\n",
       "      <td>1.303174</td>\n",
       "      <td>-1.207191</td>\n",
       "      <td>-1.981240</td>\n",
       "      <td>-0.357695</td>\n",
       "      <td>0</td>\n",
       "    </tr>\n",
       "    <tr>\n",
       "      <th>199996</th>\n",
       "      <td>199996</td>\n",
       "      <td>19991011</td>\n",
       "      <td>0.0</td>\n",
       "      <td>0</td>\n",
       "      <td>0.0</td>\n",
       "      <td>0.0</td>\n",
       "      <td>0.0</td>\n",
       "      <td>75</td>\n",
       "      <td>15.0</td>\n",
       "      <td>0.0</td>\n",
       "      <td>...</td>\n",
       "      <td>0.108095</td>\n",
       "      <td>0.066039</td>\n",
       "      <td>0.025468</td>\n",
       "      <td>0.025971</td>\n",
       "      <td>-3.913825</td>\n",
       "      <td>1.759524</td>\n",
       "      <td>-2.075658</td>\n",
       "      <td>-1.154847</td>\n",
       "      <td>0.169073</td>\n",
       "      <td>0</td>\n",
       "    </tr>\n",
       "    <tr>\n",
       "      <th>199997</th>\n",
       "      <td>199997</td>\n",
       "      <td>20040412</td>\n",
       "      <td>49.0</td>\n",
       "      <td>1</td>\n",
       "      <td>0.0</td>\n",
       "      <td>1.0</td>\n",
       "      <td>1.0</td>\n",
       "      <td>224</td>\n",
       "      <td>15.0</td>\n",
       "      <td>0.0</td>\n",
       "      <td>...</td>\n",
       "      <td>0.105724</td>\n",
       "      <td>0.117652</td>\n",
       "      <td>0.057479</td>\n",
       "      <td>0.015669</td>\n",
       "      <td>-4.639065</td>\n",
       "      <td>0.654713</td>\n",
       "      <td>1.137756</td>\n",
       "      <td>-1.390531</td>\n",
       "      <td>0.254420</td>\n",
       "      <td>0</td>\n",
       "    </tr>\n",
       "    <tr>\n",
       "      <th>199998</th>\n",
       "      <td>199998</td>\n",
       "      <td>20020008</td>\n",
       "      <td>27.0</td>\n",
       "      <td>1</td>\n",
       "      <td>0.0</td>\n",
       "      <td>0.0</td>\n",
       "      <td>1.0</td>\n",
       "      <td>334</td>\n",
       "      <td>15.0</td>\n",
       "      <td>0.0</td>\n",
       "      <td>...</td>\n",
       "      <td>0.000490</td>\n",
       "      <td>0.137366</td>\n",
       "      <td>0.086216</td>\n",
       "      <td>0.051383</td>\n",
       "      <td>1.833504</td>\n",
       "      <td>-2.828687</td>\n",
       "      <td>2.465630</td>\n",
       "      <td>-0.911682</td>\n",
       "      <td>-2.057353</td>\n",
       "      <td>0</td>\n",
       "    </tr>\n",
       "    <tr>\n",
       "      <th>199999</th>\n",
       "      <td>199999</td>\n",
       "      <td>20041109</td>\n",
       "      <td>166.0</td>\n",
       "      <td>6</td>\n",
       "      <td>1.0</td>\n",
       "      <td>NaN</td>\n",
       "      <td>1.0</td>\n",
       "      <td>68</td>\n",
       "      <td>9.0</td>\n",
       "      <td>0.0</td>\n",
       "      <td>...</td>\n",
       "      <td>0.000300</td>\n",
       "      <td>0.103534</td>\n",
       "      <td>0.080625</td>\n",
       "      <td>0.124264</td>\n",
       "      <td>2.914571</td>\n",
       "      <td>-1.135270</td>\n",
       "      <td>0.547628</td>\n",
       "      <td>2.094057</td>\n",
       "      <td>-1.552150</td>\n",
       "      <td>0</td>\n",
       "    </tr>\n",
       "  </tbody>\n",
       "</table>\n",
       "<p>200000 rows × 29 columns</p>\n",
       "</div>"
      ],
      "text/plain": [
       "        SaleID   regDate  model  brand  bodyType  fuelType  gearbox  power  \\\n",
       "0            0  20040402   30.0      6       1.0       0.0      0.0     60   \n",
       "1            1  20030301   40.0      1       2.0       0.0      0.0      0   \n",
       "2            2  20040403  115.0     15       1.0       0.0      0.0    163   \n",
       "3            3  19960908  109.0     10       0.0       0.0      1.0    193   \n",
       "4            4  20120103  110.0      5       1.0       0.0      0.0     68   \n",
       "...        ...       ...    ...    ...       ...       ...      ...    ...   \n",
       "199995  199995  19960503    4.0      4       4.0       0.0      0.0    116   \n",
       "199996  199996  19991011    0.0      0       0.0       0.0      0.0     75   \n",
       "199997  199997  20040412   49.0      1       0.0       1.0      1.0    224   \n",
       "199998  199998  20020008   27.0      1       0.0       0.0      1.0    334   \n",
       "199999  199999  20041109  166.0      6       1.0       NaN      1.0     68   \n",
       "\n",
       "        kilometer notRepairedDamage  ...       v_6       v_7       v_8  \\\n",
       "0            12.5               0.0  ...  0.101988  0.129549  0.022816   \n",
       "1            15.0                 -  ...  0.121004  0.135731  0.026597   \n",
       "2            12.5               0.0  ...  0.114912  0.165147  0.062173   \n",
       "3            15.0               0.0  ...  0.110300  0.121964  0.033395   \n",
       "4             5.0               0.0  ...  0.073205  0.091880  0.078819   \n",
       "...           ...               ...  ...       ...       ...       ...   \n",
       "199995       15.0               0.0  ...  0.130044  0.049833  0.028807   \n",
       "199996       15.0               0.0  ...  0.108095  0.066039  0.025468   \n",
       "199997       15.0               0.0  ...  0.105724  0.117652  0.057479   \n",
       "199998       15.0               0.0  ...  0.000490  0.137366  0.086216   \n",
       "199999        9.0               0.0  ...  0.000300  0.103534  0.080625   \n",
       "\n",
       "             v_9      v_10      v_11      v_12      v_13      v_14  train  \n",
       "0       0.097462 -2.881803  2.804097 -2.420821  0.795292  0.914762      1  \n",
       "1       0.020582 -4.900482  2.096338 -1.030483 -1.722674  0.245522      1  \n",
       "2       0.027075 -4.846749  1.803559  1.565330 -0.832687 -0.229963      1  \n",
       "3       0.000000 -4.509599  1.285940 -0.501868 -2.438353 -0.478699      1  \n",
       "4       0.121534 -1.896240  0.910783  0.931110  2.834518  1.923482      1  \n",
       "...          ...       ...       ...       ...       ...       ...    ...  \n",
       "199995  0.004616 -5.978511  1.303174 -1.207191 -1.981240 -0.357695      0  \n",
       "199996  0.025971 -3.913825  1.759524 -2.075658 -1.154847  0.169073      0  \n",
       "199997  0.015669 -4.639065  0.654713  1.137756 -1.390531  0.254420      0  \n",
       "199998  0.051383  1.833504 -2.828687  2.465630 -0.911682 -2.057353      0  \n",
       "199999  0.124264  2.914571 -1.135270  0.547628  2.094057 -1.552150      0  \n",
       "\n",
       "[200000 rows x 29 columns]"
      ]
     },
     "execution_count": 10,
     "metadata": {},
     "output_type": "execute_result"
    }
   ],
   "source": [
    "data"
   ]
  },
  {
   "cell_type": "code",
   "execution_count": 11,
   "metadata": {},
   "outputs": [],
   "source": [
    "data['used_time'] = (pd.to_datetime(data['creatDate'], format='%Y%m%d', errors='coerce') - \n",
    "                            pd.to_datetime(data['regDate'], format='%Y%m%d', errors='coerce')).dt.days"
   ]
  },
  {
   "cell_type": "code",
   "execution_count": 12,
   "metadata": {},
   "outputs": [],
   "source": [
    "# data['used_time'].isnull().sum()"
   ]
  },
  {
   "cell_type": "code",
   "execution_count": 13,
   "metadata": {},
   "outputs": [],
   "source": [
    "# data = data.drop([\"SaleID\",\"regDate\",\"creatDate\"],axis=1)\n",
    "data = data.drop([\"SaleID\"],axis=1)"
   ]
  },
  {
   "cell_type": "code",
   "execution_count": 14,
   "metadata": {},
   "outputs": [],
   "source": [
    "data[\"notRepairedDamage\"].replace(\"-\",np.nan,inplace=True)"
   ]
  },
  {
   "cell_type": "code",
   "execution_count": 15,
   "metadata": {},
   "outputs": [],
   "source": [
    "data[\"notRepairedDamage\"] = data[\"notRepairedDamage\"].astype(\"float\")"
   ]
  },
  {
   "cell_type": "code",
   "execution_count": 16,
   "metadata": {},
   "outputs": [],
   "source": [
    "data[\"notRepairedDamage\"] = data[\"notRepairedDamage\"].fillna(-1)"
   ]
  },
  {
   "cell_type": "code",
   "execution_count": 17,
   "metadata": {},
   "outputs": [],
   "source": [
    "data[\"damage\"] = data[\"used_time\"]+data[\"kilometer\"]"
   ]
  },
  {
   "cell_type": "code",
   "execution_count": null,
   "metadata": {},
   "outputs": [],
   "source": []
  },
  {
   "cell_type": "code",
   "execution_count": null,
   "metadata": {},
   "outputs": [],
   "source": []
  },
  {
   "cell_type": "code",
   "execution_count": null,
   "metadata": {},
   "outputs": [],
   "source": []
  },
  {
   "cell_type": "code",
   "execution_count": null,
   "metadata": {},
   "outputs": [],
   "source": []
  },
  {
   "cell_type": "code",
   "execution_count": 18,
   "metadata": {},
   "outputs": [],
   "source": [
    "train_data = data[data[\"train\"]==1]\n",
    "test_data = data[data[\"train\"]==0]\n"
   ]
  },
  {
   "cell_type": "code",
   "execution_count": 19,
   "metadata": {},
   "outputs": [],
   "source": [
    "train_data = train_data.drop([\"train\",\"price\"],axis=1)\n",
    "test_data = test_data.drop([\"train\",\"price\"],axis=1)"
   ]
  },
  {
   "cell_type": "code",
   "execution_count": 20,
   "metadata": {},
   "outputs": [],
   "source": [
    "X_data = pd.get_dummies(train_data)\n",
    "X_test = pd.get_dummies(test_data)"
   ]
  },
  {
   "cell_type": "code",
   "execution_count": 52,
   "metadata": {},
   "outputs": [],
   "source": [
    "X_data = X_data.fillna(-1)\n",
    "X_test = X_test.fillna(-1)"
   ]
  },
  {
   "cell_type": "code",
   "execution_count": 53,
   "metadata": {},
   "outputs": [],
   "source": [
    "y = train_set[\"price\"]"
   ]
  },
  {
   "cell_type": "code",
   "execution_count": 54,
   "metadata": {},
   "outputs": [],
   "source": [
    "train_x = X_data[:int(len(X_data)*0.8)]\n",
    "valid_x = X_data[int(len(X_data)*0.8):]\n",
    "train_y = y[:int(len(X_data)*0.8)]\n",
    "valid_y = y[int(len(X_data)*0.8):]"
   ]
  },
  {
   "cell_type": "code",
   "execution_count": 55,
   "metadata": {},
   "outputs": [],
   "source": [
    "x_train,x_test,y_train,y_test = train_test_split(train_x,train_y,test_size = 0.2)"
   ]
  },
  {
   "cell_type": "code",
   "execution_count": 56,
   "metadata": {},
   "outputs": [
    {
     "data": {
      "text/plain": [
       "regDate              0\n",
       "model                0\n",
       "brand                0\n",
       "bodyType             0\n",
       "fuelType             0\n",
       "gearbox              0\n",
       "power                0\n",
       "kilometer            0\n",
       "notRepairedDamage    0\n",
       "regionCode           0\n",
       "creatDate            0\n",
       "v_0                  0\n",
       "v_1                  0\n",
       "v_2                  0\n",
       "v_3                  0\n",
       "v_4                  0\n",
       "v_5                  0\n",
       "v_6                  0\n",
       "v_7                  0\n",
       "v_8                  0\n",
       "v_9                  0\n",
       "v_10                 0\n",
       "v_11                 0\n",
       "v_12                 0\n",
       "v_13                 0\n",
       "v_14                 0\n",
       "used_time            0\n",
       "damage               0\n",
       "dtype: int64"
      ]
     },
     "execution_count": 56,
     "metadata": {},
     "output_type": "execute_result"
    }
   ],
   "source": [
    "x_train.isnull().sum()"
   ]
  },
  {
   "cell_type": "code",
   "execution_count": 57,
   "metadata": {},
   "outputs": [],
   "source": [
    "max_depth=15"
   ]
  },
  {
   "cell_type": "code",
   "execution_count": 58,
   "metadata": {},
   "outputs": [
    {
     "data": {
      "text/plain": [
       "SVR(C=1.0, cache_size=200, coef0=0.0, degree=3, epsilon=0.1, gamma='scale',\n",
       "    kernel='rbf', max_iter=-1, shrinking=True, tol=0.001, verbose=False)"
      ]
     },
     "execution_count": 58,
     "metadata": {},
     "output_type": "execute_result"
    }
   ],
   "source": [
    "model = SVR()\n",
    "model.fit(x_train,y_train)\n"
   ]
  },
  {
   "cell_type": "code",
   "execution_count": 60,
   "metadata": {},
   "outputs": [
    {
     "data": {
      "text/plain": [
       "4503.94640035785"
      ]
     },
     "execution_count": 60,
     "metadata": {},
     "output_type": "execute_result"
    }
   ],
   "source": [
    "mean_absolute_error(model.predict(x_test),y_test)"
   ]
  },
  {
   "cell_type": "code",
   "execution_count": null,
   "metadata": {},
   "outputs": [],
   "source": []
  },
  {
   "cell_type": "code",
   "execution_count": null,
   "metadata": {},
   "outputs": [],
   "source": []
  },
  {
   "cell_type": "code",
   "execution_count": null,
   "metadata": {},
   "outputs": [],
   "source": []
  },
  {
   "cell_type": "code",
   "execution_count": null,
   "metadata": {},
   "outputs": [],
   "source": []
  },
  {
   "cell_type": "code",
   "execution_count": null,
   "metadata": {},
   "outputs": [],
   "source": []
  },
  {
   "cell_type": "code",
   "execution_count": null,
   "metadata": {},
   "outputs": [],
   "source": []
  },
  {
   "cell_type": "code",
   "execution_count": null,
   "metadata": {},
   "outputs": [],
   "source": []
  },
  {
   "cell_type": "code",
   "execution_count": null,
   "metadata": {},
   "outputs": [],
   "source": []
  },
  {
   "cell_type": "code",
   "execution_count": 105,
   "metadata": {},
   "outputs": [
    {
     "data": {
      "text/plain": [
       "array([ True,  True,  True,  True,  True,  True,  True,  True,  True,\n",
       "        True,  True,  True,  True,  True,  True,  True,  True,  True,\n",
       "        True,  True,  True,  True,  True,  True,  True,  True,  True,\n",
       "        True])"
      ]
     },
     "execution_count": 105,
     "metadata": {},
     "output_type": "execute_result"
    }
   ],
   "source": [
    "X_data.columns == X_test.columns\n"
   ]
  },
  {
   "cell_type": "code",
   "execution_count": 106,
   "metadata": {},
   "outputs": [
    {
     "name": "stderr",
     "output_type": "stream",
     "text": [
      "D:\\anaconda\\lib\\site-packages\\sklearn\\model_selection\\_split.py:667: UserWarning: The least populated class in y has only 1 members, which is less than n_splits=10.\n",
      "  % (min_groups, self.n_splits)), UserWarning)\n"
     ]
    },
    {
     "name": "stdout",
     "output_type": "stream",
     "text": [
      "Train mae: 107.20599530483175\n",
      "Val mae 530.675681982229\n"
     ]
    }
   ],
   "source": [
    "## xgb-Model\n",
    "\n",
    "xgr = XGBRegressor(n_estimators=120, learning_rate=0.09, gamma=0, subsample=1,\\\n",
    "        colsample_bylevel=0.4, max_depth=15,objective ='reg:squarederror') #,objective ='reg:squarederror'\n",
    "\n",
    "scores_train = []\n",
    "scores = []\n",
    "\n",
    "## 5折交叉验证方式\n",
    "sk=StratifiedKFold(n_splits=10,shuffle=True,random_state=0)\n",
    "for train_ind,val_ind in sk.split(X_data,y):\n",
    "    \n",
    "    train_x=X_data.iloc[train_ind].values\n",
    "    train_y=y.iloc[train_ind]\n",
    "    val_x=X_data.iloc[val_ind].values\n",
    "    val_y=y.iloc[val_ind]\n",
    "    \n",
    "    xgr.fit(train_x,train_y)\n",
    "    pred_train_xgb=xgr.predict(train_x)\n",
    "    pred_xgb=xgr.predict(val_x)\n",
    "    \n",
    "    score_train = mean_absolute_error(train_y,pred_train_xgb)\n",
    "    scores_train.append(score_train)\n",
    "    score = mean_absolute_error(val_y,pred_xgb)\n",
    "    scores.append(score)\n",
    "\n",
    "print('Train mae:',np.mean(score_train))\n",
    "print('Val mae',np.mean(scores))"
   ]
  },
  {
   "cell_type": "code",
   "execution_count": 107,
   "metadata": {},
   "outputs": [],
   "source": [
    "def build_model_xgb(x_train,y_train):\n",
    "    model = XGBRegressor(n_estimators=150, learning_rate=0.09, gamma=0, subsample=1,\\\n",
    "        colsample_bylevel=0.4, max_depth=15,objective ='reg:squarederror') #, objective ='reg:squarederror'\n",
    "    model.fit(x_train, y_train)\n",
    "    return model\n",
    "\n",
    "def build_model_lgb(x_train,y_train):\n",
    "    estimator = lgb.LGBMRegressor(num_leaves=127,n_estimators = 150)\n",
    "    param_grid = {\n",
    "        'learning_rate': [0.01, 0.05, 0.1, 0.2],\n",
    "    }\n",
    "    gbm = GridSearchCV(estimator, param_grid)\n",
    "    gbm.fit(x_train, y_train)\n",
    "    return gbm"
   ]
  },
  {
   "cell_type": "code",
   "execution_count": 108,
   "metadata": {},
   "outputs": [],
   "source": [
    "x_train,x_val,y_train,y_val = train_test_split(X_data,y,test_size=0.3)"
   ]
  },
  {
   "cell_type": "code",
   "execution_count": 109,
   "metadata": {},
   "outputs": [],
   "source": [
    "# print('Train lgb...')\n",
    "# model_lgb = build_model_lgb(x_train,y_train)\n",
    "# val_lgb = model_lgb.predict(x_val)\n",
    "# MAE_lgb = mean_absolute_error(y_val,val_lgb)\n",
    "# print('MAE of val with lgb:',MAE_lgb)\n",
    "\n",
    "# print('Predict lgb...')\n",
    "# model_lgb_pre = build_model_lgb(X_data,y)\n",
    "# subA_lgb = model_lgb_pre.predict(X_test)"
   ]
  },
  {
   "cell_type": "code",
   "execution_count": 110,
   "metadata": {},
   "outputs": [],
   "source": [
    "# print('Train xgb...')\n",
    "# model_xgb = build_model_xgb(x_train,y_train)\n",
    "# val_xgb = model_xgb.predict(x_val)\n",
    "# MAE_xgb = mean_absolute_error(y_val,val_xgb)\n",
    "# print('MAE of val with xgb:',MAE_xgb)\n",
    "\n",
    "# print('Predict xgb...')\n",
    "# model_xgb_pre = build_model_xgb(X_data,y)\n",
    "# subA_xgb = model_xgb_pre.predict(X_test)\n"
   ]
  },
  {
   "cell_type": "code",
   "execution_count": 111,
   "metadata": {},
   "outputs": [],
   "source": [
    "# val_Weighted = (1-MAE_lgb/(MAE_xgb+MAE_lgb))*val_lgb+(1-MAE_xgb/(MAE_xgb+MAE_lgb))*val_xgb\n",
    "# val_Weighted[val_Weighted<0]=10 # 由于我们发现预测的最小值有负数，而真实情况下，price为负是不存在的，由此我们进行对应的后修正\n",
    "# print('MAE of val with Weighted ensemble:',mean_absolute_error(y_val,val_Weighted))"
   ]
  },
  {
   "cell_type": "code",
   "execution_count": null,
   "metadata": {},
   "outputs": [],
   "source": []
  },
  {
   "cell_type": "code",
   "execution_count": null,
   "metadata": {},
   "outputs": [],
   "source": []
  },
  {
   "cell_type": "code",
   "execution_count": null,
   "metadata": {},
   "outputs": [],
   "source": []
  },
  {
   "cell_type": "code",
   "execution_count": null,
   "metadata": {},
   "outputs": [],
   "source": []
  },
  {
   "cell_type": "code",
   "execution_count": null,
   "metadata": {},
   "outputs": [],
   "source": []
  },
  {
   "cell_type": "code",
   "execution_count": null,
   "metadata": {},
   "outputs": [],
   "source": []
  },
  {
   "cell_type": "code",
   "execution_count": null,
   "metadata": {},
   "outputs": [],
   "source": []
  },
  {
   "cell_type": "code",
   "execution_count": null,
   "metadata": {},
   "outputs": [],
   "source": []
  },
  {
   "cell_type": "code",
   "execution_count": null,
   "metadata": {},
   "outputs": [],
   "source": []
  },
  {
   "cell_type": "code",
   "execution_count": null,
   "metadata": {},
   "outputs": [],
   "source": []
  },
  {
   "cell_type": "code",
   "execution_count": null,
   "metadata": {},
   "outputs": [],
   "source": []
  },
  {
   "cell_type": "code",
   "execution_count": null,
   "metadata": {},
   "outputs": [],
   "source": []
  }
 ],
 "metadata": {
  "kernelspec": {
   "display_name": "Python 3",
   "language": "python",
   "name": "python3"
  },
  "language_info": {
   "codemirror_mode": {
    "name": "ipython",
    "version": 3
   },
   "file_extension": ".py",
   "mimetype": "text/x-python",
   "name": "python",
   "nbconvert_exporter": "python",
   "pygments_lexer": "ipython3",
   "version": "3.7.6"
  }
 },
 "nbformat": 4,
 "nbformat_minor": 4
}
